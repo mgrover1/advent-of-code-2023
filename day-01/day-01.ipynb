{
 "cells": [
  {
   "cell_type": "markdown",
   "id": "4bd7ea0a-6cee-472c-b536-b5e4d0e750f6",
   "metadata": {},
   "source": [
    "# Advent of Code Day 1\n",
    "\n",
    "## The Problem\n",
    "Something is wrong with global snow production, and you've been selected to take a look. The Elves have even given you a map; on it, they've used stars to mark the top fifty locations that are likely to be having problems.\n",
    "\n",
    "You've been doing this long enough to know that to restore snow operations, you need to check all fifty stars by December 25th.\n",
    "\n",
    "Collect stars by solving puzzles. Two puzzles will be made available on each day in the Advent calendar; the second puzzle is unlocked when you complete the first. Each puzzle grants one star. Good luck!\n",
    "\n",
    "You try to ask why they can't just use a weather machine (\"not powerful enough\") and where they're even sending you (\"the sky\") and why your map looks mostly blank (\"you sure ask a lot of questions\") and hang on did you just say the sky (\"of course, where do you think snow comes from\") when you realize that the Elves are already loading you into a trebuchet (\"please hold still, we need to strap you in\").\n",
    "\n",
    "As they're making the final adjustments, they discover that their calibration document (your puzzle input) has been amended by a very young Elf who was apparently just excited to show off her art skills. Consequently, the Elves are having trouble reading the values on the document.\n",
    "\n",
    "The newly-improved calibration document consists of lines of text; each line originally contained a specific calibration value that the Elves now need to recover. On each line, the calibration value can be found by combining the first digit and the last digit (in that order) to form a single two-digit number.\n",
    "\n",
    "For example:\n",
    "```\n",
    "1abc2\n",
    "pqr3stu8vwx\n",
    "a1b2c3d4e5f\n",
    "treb7uchet\n",
    "```\n",
    "In this example, the calibration values of these four lines are 12, 38, 15, and 77. Adding these together produces 142.\n",
    "\n",
    "Consider your entire calibration document. What is the sum of all of the calibration values?"
   ]
  },
  {
   "cell_type": "markdown",
   "id": "06fb39fe-c482-435b-9b6e-c9ebc649aef3",
   "metadata": {},
   "source": [
    "## The Solution\n",
    "\n",
    "First, let's start by testing on the initial small dataset described here."
   ]
  },
  {
   "cell_type": "markdown",
   "id": "f76a09d0-097a-4097-8d7c-9c215fc75373",
   "metadata": {},
   "source": [
    "## Test with the smaller dataset"
   ]
  },
  {
   "cell_type": "code",
   "execution_count": 36,
   "id": "9d0d7819-5970-4b15-881c-93998a696926",
   "metadata": {},
   "outputs": [],
   "source": [
    "data = [\"1abc2\",\n",
    "        \"pqr3stu8vwx\",\n",
    "        \"a1b2c3d4e5f\",\n",
    "        \"treb7uchet\",\n",
    "        # Add an extra validation for strings with no numbers\n",
    "        \"abc\"]"
   ]
  },
  {
   "cell_type": "code",
   "execution_count": 37,
   "id": "7fae06be-cccd-4360-b43e-7d61b1102016",
   "metadata": {},
   "outputs": [
    {
     "data": {
      "text/plain": [
       "12"
      ]
     },
     "execution_count": 37,
     "metadata": {},
     "output_type": "execute_result"
    }
   ],
   "source": [
    "extract_add_integers(data[0])"
   ]
  },
  {
   "cell_type": "code",
   "execution_count": 38,
   "id": "c352a0bf-7816-48ec-9d87-7acd510a1e6a",
   "metadata": {},
   "outputs": [],
   "source": [
    "def extract_add_integers(string):\n",
    "    \"\"\"\n",
    "    Extract the integers from the string\n",
    "    \"\"\"\n",
    "    integers_as_text = list(''.join([i for i in string if i.isdigit()]))\n",
    "\n",
    "    # If there is only digit, then it is the first and the last\n",
    "    if len(integers_as_text) == 1:\n",
    "        integers_as_text+=integers_as_text\n",
    "\n",
    "    # If there are \n",
    "    elif len(integers_as_text) == 0:\n",
    "        integers_as_text = [0, 0]\n",
    "    return int(f\"{integers_as_text[0]}{integers_as_text[-1]}\")"
   ]
  },
  {
   "cell_type": "code",
   "execution_count": 39,
   "id": "8547c6cd-1b1b-4e58-a15e-7316debe4ac9",
   "metadata": {},
   "outputs": [
    {
     "data": {
      "text/plain": [
       "142"
      ]
     },
     "execution_count": 39,
     "metadata": {},
     "output_type": "execute_result"
    }
   ],
   "source": [
    "sum([extract_add_integers(value) for value in data])"
   ]
  },
  {
   "cell_type": "markdown",
   "id": "1307e116-3447-41da-9c9a-98051a4b0ad0",
   "metadata": {},
   "source": [
    "## Apply to the Entire Dataset"
   ]
  },
  {
   "cell_type": "code",
   "execution_count": 42,
   "id": "bbcb9b8d-8e5b-430b-903d-5f1a4cb94e23",
   "metadata": {},
   "outputs": [],
   "source": [
    "import pandas as pd"
   ]
  },
  {
   "cell_type": "code",
   "execution_count": 54,
   "id": "8c2da371-26d7-4d18-b6cc-7abe0ac2ab6e",
   "metadata": {},
   "outputs": [
    {
     "data": {
      "text/html": [
       "<div>\n",
       "<style scoped>\n",
       "    .dataframe tbody tr th:only-of-type {\n",
       "        vertical-align: middle;\n",
       "    }\n",
       "\n",
       "    .dataframe tbody tr th {\n",
       "        vertical-align: top;\n",
       "    }\n",
       "\n",
       "    .dataframe thead th {\n",
       "        text-align: right;\n",
       "    }\n",
       "</style>\n",
       "<table border=\"1\" class=\"dataframe\">\n",
       "  <thead>\n",
       "    <tr style=\"text-align: right;\">\n",
       "      <th></th>\n",
       "      <th>0</th>\n",
       "    </tr>\n",
       "  </thead>\n",
       "  <tbody>\n",
       "    <tr>\n",
       "      <th>0</th>\n",
       "      <td>fivethreeonezblqnsfk1</td>\n",
       "    </tr>\n",
       "    <tr>\n",
       "      <th>1</th>\n",
       "      <td>two74119onebtqgnine</td>\n",
       "    </tr>\n",
       "    <tr>\n",
       "      <th>2</th>\n",
       "      <td>jrjh5vsrxbhsfour3</td>\n",
       "    </tr>\n",
       "    <tr>\n",
       "      <th>3</th>\n",
       "      <td>tn5eightfncnzcdtthree8</td>\n",
       "    </tr>\n",
       "    <tr>\n",
       "      <th>4</th>\n",
       "      <td>kpmrk5flx</td>\n",
       "    </tr>\n",
       "    <tr>\n",
       "      <th>...</th>\n",
       "      <td>...</td>\n",
       "    </tr>\n",
       "    <tr>\n",
       "      <th>995</th>\n",
       "      <td>ksbsddjcknsevensix293three</td>\n",
       "    </tr>\n",
       "    <tr>\n",
       "      <th>996</th>\n",
       "      <td>rljzzbvd3zkmbpjt9eightninesnlrsone</td>\n",
       "    </tr>\n",
       "    <tr>\n",
       "      <th>997</th>\n",
       "      <td>97ninesevenrhchvppnztvfbfpkzrbcone</td>\n",
       "    </tr>\n",
       "    <tr>\n",
       "      <th>998</th>\n",
       "      <td>sevendxbninefour2fourclmln</td>\n",
       "    </tr>\n",
       "    <tr>\n",
       "      <th>999</th>\n",
       "      <td>1rdtwofjvdllht5eightsixfourbl</td>\n",
       "    </tr>\n",
       "  </tbody>\n",
       "</table>\n",
       "<p>1000 rows × 1 columns</p>\n",
       "</div>"
      ],
      "text/plain": [
       "                                      0\n",
       "0                 fivethreeonezblqnsfk1\n",
       "1                   two74119onebtqgnine\n",
       "2                     jrjh5vsrxbhsfour3\n",
       "3                tn5eightfncnzcdtthree8\n",
       "4                             kpmrk5flx\n",
       "..                                  ...\n",
       "995          ksbsddjcknsevensix293three\n",
       "996  rljzzbvd3zkmbpjt9eightninesnlrsone\n",
       "997  97ninesevenrhchvppnztvfbfpkzrbcone\n",
       "998          sevendxbninefour2fourclmln\n",
       "999       1rdtwofjvdllht5eightsixfourbl\n",
       "\n",
       "[1000 rows x 1 columns]"
      ]
     },
     "execution_count": 54,
     "metadata": {},
     "output_type": "execute_result"
    }
   ],
   "source": [
    "df = pd.read_table(\"data/input.txt\",\n",
    "                   header=None)\n",
    "df"
   ]
  },
  {
   "cell_type": "code",
   "execution_count": 53,
   "id": "4ffb93c5-8761-4b52-8ee7-6f6da3856e6a",
   "metadata": {},
   "outputs": [
    {
     "data": {
      "text/plain": [
       "56108"
      ]
     },
     "execution_count": 53,
     "metadata": {},
     "output_type": "execute_result"
    }
   ],
   "source": [
    "sum([extract_add_integers(value) for value in df[0].values])"
   ]
  },
  {
   "cell_type": "markdown",
   "id": "cdac6868-6761-48b1-8464-08e78e527fb4",
   "metadata": {},
   "source": [
    "---"
   ]
  },
  {
   "cell_type": "markdown",
   "id": "dd52779a-0bda-43a4-a234-4f153aef2be6",
   "metadata": {},
   "source": [
    "## Part 2"
   ]
  },
  {
   "cell_type": "code",
   "execution_count": 57,
   "id": "b98567d6-9c32-4ea1-b6bd-f8cd940e8fd7",
   "metadata": {},
   "outputs": [
    {
     "data": {
      "text/plain": [
       "True"
      ]
     },
     "execution_count": 57,
     "metadata": {},
     "output_type": "execute_result"
    }
   ],
   "source": [
    "data[0][0].isdigit()"
   ]
  },
  {
   "cell_type": "code",
   "execution_count": 59,
   "id": "8eef1937-6e99-466f-a852-978a683e9b6e",
   "metadata": {},
   "outputs": [],
   "source": [
    "test = \"one\""
   ]
  },
  {
   "cell_type": "code",
   "execution_count": 60,
   "id": "dff68985-4882-4e94-be61-7be8c609847e",
   "metadata": {},
   "outputs": [
    {
     "data": {
      "text/plain": [
       "\u001b[0;31mSignature:\u001b[0m \u001b[0mtest\u001b[0m\u001b[0;34m.\u001b[0m\u001b[0mreplace\u001b[0m\u001b[0;34m(\u001b[0m\u001b[0mold\u001b[0m\u001b[0;34m,\u001b[0m \u001b[0mnew\u001b[0m\u001b[0;34m,\u001b[0m \u001b[0mcount\u001b[0m\u001b[0;34m=\u001b[0m\u001b[0;34m-\u001b[0m\u001b[0;36m1\u001b[0m\u001b[0;34m,\u001b[0m \u001b[0;34m/\u001b[0m\u001b[0;34m)\u001b[0m\u001b[0;34m\u001b[0m\u001b[0;34m\u001b[0m\u001b[0m\n",
       "\u001b[0;31mDocstring:\u001b[0m\n",
       "Return a copy with all occurrences of substring old replaced by new.\n",
       "\n",
       "  count\n",
       "    Maximum number of occurrences to replace.\n",
       "    -1 (the default value) means replace all occurrences.\n",
       "\n",
       "If the optional argument count is given, only the first count occurrences are\n",
       "replaced.\n",
       "\u001b[0;31mType:\u001b[0m      builtin_function_or_method"
      ]
     },
     "metadata": {},
     "output_type": "display_data"
    }
   ],
   "source": [
    "test.replace?"
   ]
  },
  {
   "cell_type": "code",
   "execution_count": null,
   "id": "fbd520d9-fbb9-456d-8c26-8037142258c7",
   "metadata": {},
   "outputs": [],
   "source": []
  }
 ],
 "metadata": {
  "kernelspec": {
   "display_name": "Python 3 (ipykernel)",
   "language": "python",
   "name": "python3"
  },
  "language_info": {
   "codemirror_mode": {
    "name": "ipython",
    "version": 3
   },
   "file_extension": ".py",
   "mimetype": "text/x-python",
   "name": "python",
   "nbconvert_exporter": "python",
   "pygments_lexer": "ipython3",
   "version": "3.11.6"
  }
 },
 "nbformat": 4,
 "nbformat_minor": 5
}
